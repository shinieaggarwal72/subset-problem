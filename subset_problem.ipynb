{
  "nbformat": 4,
  "nbformat_minor": 0,
  "metadata": {
    "colab": {
      "provenance": []
    },
    "kernelspec": {
      "name": "python3",
      "display_name": "Python 3"
    },
    "language_info": {
      "name": "python"
    }
  },
  "cells": [
    {
      "cell_type": "markdown",
      "source": [
        "Problem Statement 1"
      ],
      "metadata": {
        "id": "tWTmM5FlTsJn"
      }
    },
    {
      "cell_type": "code",
      "source": [
        "import random as r\n",
        "A=[-12, -3, -6, 7, 2, -2, 6, 3, 9 -7, -5, -8, 1, 11, -9, -4]\n",
        "i=0\n",
        "while i<1000:\n",
        "  s = r.sample(A, 5)\n",
        "  i=i+1\n",
        "  n=0\n",
        "  sum=0\n",
        "  for n in s:\n",
        "    sum = sum+n\n",
        "  if sum==0:\n",
        "    print(s)"
      ],
      "metadata": {
        "id": "VDsufe1KTvm9"
      },
      "execution_count": null,
      "outputs": []
    },
    {
      "cell_type": "markdown",
      "source": [
        "Problem Statement 2"
      ],
      "metadata": {
        "id": "S_wwhXdETxND"
      }
    },
    {
      "cell_type": "code",
      "source": [
        "import random as r\n",
        "import numpy as np\n",
        "\n",
        "A=[-12, -3, -6, 7, 2, -2, 6, 3, 9 -7, -5, -8, 1, 11, -9, -4]\n",
        "i=0\n",
        "x=3\n",
        "\n",
        "while i<1000:\n",
        "  for x in range(3,7):\n",
        "    summ=0\n",
        "    s = r.sample(A,x)\n",
        "    summ=summ+np.sum(s)\n",
        "    #print(summ)\n",
        "    if summ==0:\n",
        "      print(s)\n",
        "  i=i+1"
      ],
      "metadata": {
        "id": "HfyMwTGKTz9Y"
      },
      "execution_count": null,
      "outputs": []
    }
  ]
}